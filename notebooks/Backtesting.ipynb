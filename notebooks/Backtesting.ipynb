{
 "cells": [
  {
   "cell_type": "code",
   "execution_count": 1,
   "metadata": {},
   "outputs": [
    {
     "name": "stdout",
     "output_type": "stream",
     "text": [
      "Working on local machine...\n"
     ]
    }
   ],
   "source": [
    "import os\n",
    "try:\n",
    "    from google.colab import drive\n",
    "    drive.mount(\"/content/gdrive\", force_remount=True)\n",
    "    # cd gdrive/MyDrive/'Colab Notebooks'/Innovative-Approaches-to-Asset-Prediction/\n",
    "    os.chdir(\"/content/gdrive/MyDrive/'Colab Notebooks'/Innovative-Approaches-to-Asset-Prediction/\")\n",
    "    print(\"Working on Google Colab...\")\n",
    "except:\n",
    "    try:\n",
    "        os.chdir(os.path.abspath(os.path.join(os.path.abspath(os.path.dirname(__vsc_ipynb_file__)), os.pardir)))\n",
    "        print(\"Working on local machine...\")\n",
    "    except:\n",
    "        print(\"Can't change directory. Quitting...\")\n",
    "        exit(1)"
   ]
  },
  {
   "cell_type": "code",
   "execution_count": 2,
   "metadata": {},
   "outputs": [
    {
     "ename": "AttributeError",
     "evalue": "module 'trading.backtest.metrics' has no attribute 'calculate_metricsmonthly_returns'",
     "output_type": "error",
     "traceback": [
      "\u001b[1;31m---------------------------------------------------------------------------\u001b[0m",
      "\u001b[1;31mAttributeError\u001b[0m                            Traceback (most recent call last)",
      "Cell \u001b[1;32mIn[2], line 2\u001b[0m\n\u001b[0;32m      1\u001b[0m \u001b[38;5;28;01mfrom\u001b[39;00m \u001b[38;5;21;01mdeep_learning\u001b[39;00m \u001b[38;5;28;01mimport\u001b[39;00m predict\n\u001b[1;32m----> 2\u001b[0m \u001b[38;5;28;01mfrom\u001b[39;00m \u001b[38;5;21;01mtrading\u001b[39;00m \u001b[38;5;28;01mimport\u001b[39;00m calculate_metrics, \\\n\u001b[0;32m      3\u001b[0m                     weekly_returns, monthly_returns, \\\n\u001b[0;32m      4\u001b[0m                     distribution\n",
      "File \u001b[1;32me:\\Desktop\\Coding\\Imperial\\Assignments\\Innovative-Approaches-to-Asset-Prediction\\trading\\__init__.py:3\u001b[0m\n\u001b[0;32m      1\u001b[0m \u001b[38;5;28;01mfrom\u001b[39;00m \u001b[38;5;21;01m.\u001b[39;00m\u001b[38;5;21;01mlive\u001b[39;00m\u001b[38;5;21;01m.\u001b[39;00m\u001b[38;5;21;01mlive\u001b[39;00m \u001b[38;5;28;01mimport\u001b[39;00m live\n\u001b[0;32m      2\u001b[0m \u001b[38;5;28;01mfrom\u001b[39;00m \u001b[38;5;21;01m.\u001b[39;00m\u001b[38;5;21;01mbacktest\u001b[39;00m\u001b[38;5;21;01m.\u001b[39;00m\u001b[38;5;21;01mbacktest\u001b[39;00m \u001b[38;5;28;01mimport\u001b[39;00m backtest\n\u001b[1;32m----> 3\u001b[0m \u001b[38;5;28;01mfrom\u001b[39;00m \u001b[38;5;21;01m.\u001b[39;00m\u001b[38;5;21;01mbacktest\u001b[39;00m\u001b[38;5;21;01m.\u001b[39;00m\u001b[38;5;21;01mmetrics\u001b[39;00m \u001b[38;5;28;01mimport\u001b[39;00m \u001b[38;5;241m*\u001b[39m  \u001b[38;5;66;03m# noqa\u001b[39;00m\n",
      "\u001b[1;31mAttributeError\u001b[0m: module 'trading.backtest.metrics' has no attribute 'calculate_metricsmonthly_returns'"
     ]
    }
   ],
   "source": [
    "from deep_learning import predict\n",
    "from trading import calculate_metrics, \\\n",
    "                    weekly_returns, monthly_returns, \\\n",
    "                    distribution"
   ]
  },
  {
   "cell_type": "code",
   "execution_count": null,
   "metadata": {},
   "outputs": [],
   "source": [
    "import pandas as pd\n",
    "import numpy as np\n",
    "import pytz"
   ]
  },
  {
   "cell_type": "code",
   "execution_count": null,
   "metadata": {},
   "outputs": [],
   "source": [
    "from qstrader import settings\n",
    "from qstrader.alpha_model.fixed_signals import FixedSignalsAlphaModel\n",
    "from qstrader.asset.equity import Equity\n",
    "from qstrader.asset.universe.static import StaticUniverse\n",
    "from qstrader.data.backtest_data_handler import BacktestDataHandler\n",
    "from qstrader.data.daily_bar_csv import CSVDailyBarDataSource\n",
    "from qstrader.statistics.tearsheet import TearsheetStatistics\n",
    "from qstrader.trading.backtest import BacktestTradingSession\n",
    "from qstrader.broker.fee_model.percent_fee_model import PercentFeeModel"
   ]
  },
  {
   "cell_type": "code",
   "execution_count": null,
   "metadata": {},
   "outputs": [],
   "source": [
    "def load_data(csv_file):\n",
    "    \"\"\"\n",
    "    Load the S&P 500 data from a CSV file.\n",
    "    \"\"\"\n",
    "    return pd.read_csv(csv_file, index_col='Date', parse_dates=True)"
   ]
  },
  {
   "cell_type": "code",
   "execution_count": null,
   "metadata": {},
   "outputs": [],
   "source": [
    "class PredictiveAlphaModel(FixedSignalsAlphaModel):\n",
    "    def __init__(self, data, lookback_period, model):\n",
    "        self.model = model\n",
    "        print(f\"Using pretrained model: {model}\")\n",
    "        self.data = data\n",
    "        self.lookback_period = lookback_period\n",
    "        self.asset = 'EQ:SPY'\n",
    "        self.signals = pd.Series(0.0, index=data.index)\n",
    "        super().__init__({self.asset: self.signals})\n",
    "        self.current_position = 0  # 0 for no position, >0 for long, <0 for short\n",
    "\n",
    "    def __call__(self, dt):\n",
    "        print(f\"Predicting for {dt}...\")\n",
    "        end_date = pd.to_datetime(dt).tz_convert(self.data.index.tz)\n",
    "\n",
    "        loc = self.data.index.get_loc(self.data.index.asof(end_date))\n",
    "        start_date = self.data.index[loc - self.lookback_period]\n",
    "\n",
    "        historical_data = self.data.loc[start_date:end_date]\n",
    "\n",
    "        # Move Date index to a column\n",
    "        historical_data.reset_index(inplace=True)\n",
    "\n",
    "        prediction = predict(self.model, [historical_data], device=\"cpu\")\n",
    "        print(f\"Prediction for {dt}: {prediction}\")\n",
    "\n",
    "        # Ensure prediction is a single scalar value\n",
    "        if isinstance(prediction, (np.ndarray, list)):\n",
    "            prediction = np.mean(prediction)\n",
    "\n",
    "        # Clip the prediction to ensure it's between -1 and 1\n",
    "        prediction = np.clip(prediction, -1, 1)\n",
    "\n",
    "        # Implement the strategy\n",
    "        if prediction > 0:\n",
    "            if self.current_position <= 0:\n",
    "                self.current_position = prediction\n",
    "                return {self.asset: prediction}  # Go long\n",
    "        elif prediction < 0:\n",
    "            if self.current_position >= 0:\n",
    "                self.current_position = prediction\n",
    "                return {self.asset: prediction}  # Go short\n",
    "        else:  # signal == 0\n",
    "            if self.current_position != 0:\n",
    "                self.current_position = 0\n",
    "                return {self.asset: 0.0}  # Close position\n",
    "\n",
    "        # If no action needed, return current position\n",
    "        return {self.asset: float(self.current_position)}"
   ]
  },
  {
   "cell_type": "code",
   "execution_count": null,
   "metadata": {},
   "outputs": [],
   "source": [
    "def run_backtest(csv_file, initial_cash, lookback_period):\n",
    "    # Load the data\n",
    "    data = load_data(csv_file)\n",
    "\n",
    "    start_dt = pd.Timestamp('2019-06-30 14:30:00', tz=pytz.UTC)\n",
    "    end_dt = pd.Timestamp('2024-06-30 23:59:00', tz=pytz.UTC)\n",
    "\n",
    "    # Construct the symbols and assets necessary for the backtest\n",
    "    strategy_symbols = ['SPY']\n",
    "    strategy_assets = ['EQ:SPY']\n",
    "    strategy_universe = StaticUniverse(strategy_assets)\n",
    "    strategy_data_source = CSVDailyBarDataSource(os.path.join(os.path.abspath('.'), 'data', 'unprocessed'), Equity, csv_symbols=strategy_symbols)\n",
    "    strategy_data_handler = BacktestDataHandler(strategy_universe,\n",
    "                                                 data_sources=[strategy_data_source])\n",
    "\n",
    "    # Create the alpha model\n",
    "    strategy_alpha_model = PredictiveAlphaModel(data, lookback_period, \"18989.US.RANDOM.30.5.64.3.RANGE.2.49\")\n",
    "\n",
    "    # Set up the backtest trading session\n",
    "    strategy = BacktestTradingSession(\n",
    "        start_dt=start_dt,\n",
    "        end_dt=end_dt,\n",
    "        universe=strategy_universe,\n",
    "        alpha_model=strategy_alpha_model,\n",
    "        portfolio_id='predictive_strategy',\n",
    "        initial_cash=initial_cash,\n",
    "        gross_leverage=1.0,\n",
    "        rebalance='weekly',\n",
    "        rebalance_weekday='FRI',\n",
    "        rebalance_calendar='NYSE',\n",
    "        data_handler=strategy_data_handler,\n",
    "        fee_model=PercentFeeModel(0.001)\n",
    "    )\n",
    "\n",
    "    # Run the backtest\n",
    "    results = strategy.run()\n",
    "\n",
    "    # Construct benchmark assets (buy & hold SPY)\n",
    "    benchmark_symbols = ['SPY']\n",
    "    benchmark_assets = ['EQ:SPY']\n",
    "    benchmark_universe = StaticUniverse(benchmark_assets)\n",
    "    benchmark_data_source = CSVDailyBarDataSource(os.path.join(os.path.abspath('.'), 'data', 'unprocessed'), Equity, csv_symbols=benchmark_symbols)\n",
    "    benchmark_data_handler = BacktestDataHandler(benchmark_universe,\n",
    "                                                 data_sources=[benchmark_data_source])\n",
    "\n",
    "    # Construct a benchmark Alpha Model that provides\n",
    "    # 100% static allocation to the SPY ETF, with no rebalance\n",
    "    benchmark_alpha_model = FixedSignalsAlphaModel({'EQ:SPY': 1.0})\n",
    "    benchmark_backtest = BacktestTradingSession(\n",
    "        start_dt,\n",
    "        end_dt,\n",
    "        benchmark_universe,\n",
    "        benchmark_alpha_model,\n",
    "        rebalance='buy_and_hold',\n",
    "        long_only=True,\n",
    "        cash_buffer_percentage=0.01,\n",
    "        data_handler=benchmark_data_handler,\n",
    "        initial_cash=initial_cash,\n",
    "        fee_model=PercentFeeModel(0.001)\n",
    "    )\n",
    "    benchmark_results = benchmark_backtest.run()\n",
    "\n",
    "    # Generate and save tearsheet\n",
    "    tearsheet = TearsheetStatistics(\n",
    "        strategy_equity=strategy.get_equity_curve(),\n",
    "        benchmark_equity=benchmark_backtest.get_equity_curve(),\n",
    "        title='Predictive Strategy'\n",
    "    )\n",
    "    tearsheet.plot_results()\n",
    "\n",
    "    return results, tearsheet"
   ]
  },
  {
   "cell_type": "code",
   "execution_count": null,
   "metadata": {},
   "outputs": [],
   "source": [
    "csv_file = './data/unprocessed/SPY.csv'\n",
    "initial_cash = 1_000_000  # $1,000,000 initial capital\n",
    "lookback_period = 5  # Number of previous trading days to use for prediction\n",
    "\n",
    "results, tearsheet = run_backtest(csv_file, initial_cash, lookback_period)\n",
    "print(\"Backtest completed. Check the generated tearsheet for results.\")"
   ]
  },
  {
   "cell_type": "code",
   "execution_count": null,
   "metadata": {},
   "outputs": [],
   "source": [
    "print(results)"
   ]
  },
  {
   "cell_type": "code",
   "execution_count": null,
   "metadata": {},
   "outputs": [],
   "source": [
    "# Calculate and display the strategy metrics\n",
    "strategy_returns = tearsheet.strategy_equity\n",
    "benchmark_returns = tearsheet.benchmark_equity"
   ]
  },
  {
   "cell_type": "code",
   "execution_count": null,
   "metadata": {},
   "outputs": [],
   "source": [
    "strategy_statistics = tearsheet.get_results(strategy_returns)\n",
    "benchmark_statistics = tearsheet.get_results(benchmark_returns)"
   ]
  },
  {
   "cell_type": "code",
   "execution_count": null,
   "metadata": {},
   "outputs": [],
   "source": [
    "# Plot the growth of the strategy over the benchmark\n",
    "growth = strategy_statistics['equity'] - benchmark_statistics['equity']\n",
    "growth.plot(title='Strategy Growth Over Benchmark', figsize=(12, 6), color='blue', lw=2)"
   ]
  },
  {
   "cell_type": "code",
   "execution_count": null,
   "metadata": {},
   "outputs": [],
   "source": [
    "strategy_weekly_returns = weekly_returns(strategy_statistics)\n",
    "benchmark_weekly_returns = weekly_returns(benchmark_statistics)"
   ]
  },
  {
   "cell_type": "code",
   "execution_count": null,
   "metadata": {},
   "outputs": [],
   "source": [
    "strategy_monthly_return = monthly_returns(strategy_statistics)\n",
    "benchmark_monthly_returns = monthly_returns(benchmark_statistics)"
   ]
  },
  {
   "cell_type": "code",
   "execution_count": null,
   "metadata": {},
   "outputs": [],
   "source": [
    "# Display the distribution of weekly and monthly returns of the strategy\n",
    "distribution(strategy_weekly_returns)\n",
    "distribution(strategy_monthly_return)"
   ]
  },
  {
   "cell_type": "code",
   "execution_count": null,
   "metadata": {},
   "outputs": [],
   "source": [
    "# Calculate the alpha, beta, and information ratio of the strategy\n",
    "metrics = calculate_metrics(strategy_statistics[\"returns\"], benchmark_statistics[\"returns\"], 0)\n",
    "\n",
    "print(f\"Ann. Alpha: {100*metrics['alpha']:.2f}%\")\n",
    "print(f\"Beta: {metrics['beta']:.2f}\")\n",
    "print(f\"Ann. Information Ratio: {metrics['information_ratio']:.2f}\")"
   ]
  }
 ],
 "metadata": {
  "kernelspec": {
   "display_name": ".venv",
   "language": "python",
   "name": "python3"
  },
  "language_info": {
   "codemirror_mode": {
    "name": "ipython",
    "version": 3
   },
   "file_extension": ".py",
   "mimetype": "text/x-python",
   "name": "python",
   "nbconvert_exporter": "python",
   "pygments_lexer": "ipython3",
   "version": "3.11.1"
  }
 },
 "nbformat": 4,
 "nbformat_minor": 2
}
